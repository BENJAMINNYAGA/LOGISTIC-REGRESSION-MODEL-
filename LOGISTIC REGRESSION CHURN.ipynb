{
 "cells": [
  {
   "cell_type": "markdown",
   "id": "875ee5a9",
   "metadata": {},
   "source": [
    "# ##We need to importing the relevant libraries.\n",
    " "
   ]
  },
  {
   "cell_type": "code",
   "execution_count": 1,
   "id": "62ed9adf",
   "metadata": {},
   "outputs": [],
   "source": [
    "import pandas as pd\n",
    "import  numpy as np\n",
    "import matplotlib.pyplot as plt\n",
    "from sklearn.model_selection import train_test_split\n",
    "from sklearn.linear_model  import LogisticRegression "
   ]
  },
  {
   "cell_type": "markdown",
   "id": "a786966e",
   "metadata": {},
   "source": [
    "# #We load the Dataset"
   ]
  },
  {
   "cell_type": "code",
   "execution_count": 2,
   "id": "ea0ee5d2",
   "metadata": {},
   "outputs": [],
   "source": [
    "data=pd.read_csv(\"C:/Users/BENJAMIN/Downloads/dataset.csv\")"
   ]
  },
  {
   "cell_type": "code",
   "execution_count": 3,
   "id": "4d747ad3",
   "metadata": {},
   "outputs": [
    {
     "name": "stdout",
     "output_type": "stream",
     "text": [
      "<class 'pandas.core.frame.DataFrame'>\n",
      "RangeIndex: 10000 entries, 0 to 9999\n",
      "Data columns (total 14 columns):\n",
      " #   Column           Non-Null Count  Dtype  \n",
      "---  ------           --------------  -----  \n",
      " 0   RowNumber        10000 non-null  int64  \n",
      " 1   CustomerId       10000 non-null  int64  \n",
      " 2   Surname          10000 non-null  object \n",
      " 3   CreditScore      10000 non-null  int64  \n",
      " 4   Geography        10000 non-null  object \n",
      " 5   Gender           10000 non-null  object \n",
      " 6   Age              10000 non-null  int64  \n",
      " 7   Tenure           10000 non-null  int64  \n",
      " 8   Balance          10000 non-null  float64\n",
      " 9   NumOfProducts    10000 non-null  int64  \n",
      " 10  HasCrCard        10000 non-null  int64  \n",
      " 11  IsActiveMember   10000 non-null  int64  \n",
      " 12  EstimatedSalary  10000 non-null  float64\n",
      " 13  Exited           10000 non-null  int64  \n",
      "dtypes: float64(2), int64(9), object(3)\n",
      "memory usage: 1.1+ MB\n"
     ]
    }
   ],
   "source": [
    "data.info()  #Obtaining the information about the loaded dataset."
   ]
  },
  {
   "cell_type": "code",
   "execution_count": 4,
   "id": "82f44b89",
   "metadata": {},
   "outputs": [
    {
     "data": {
      "text/html": [
       "<div>\n",
       "<style scoped>\n",
       "    .dataframe tbody tr th:only-of-type {\n",
       "        vertical-align: middle;\n",
       "    }\n",
       "\n",
       "    .dataframe tbody tr th {\n",
       "        vertical-align: top;\n",
       "    }\n",
       "\n",
       "    .dataframe thead th {\n",
       "        text-align: right;\n",
       "    }\n",
       "</style>\n",
       "<table border=\"1\" class=\"dataframe\">\n",
       "  <thead>\n",
       "    <tr style=\"text-align: right;\">\n",
       "      <th></th>\n",
       "      <th>RowNumber</th>\n",
       "      <th>CustomerId</th>\n",
       "      <th>Surname</th>\n",
       "      <th>CreditScore</th>\n",
       "      <th>Geography</th>\n",
       "      <th>Gender</th>\n",
       "      <th>Age</th>\n",
       "      <th>Tenure</th>\n",
       "      <th>Balance</th>\n",
       "      <th>NumOfProducts</th>\n",
       "      <th>HasCrCard</th>\n",
       "      <th>IsActiveMember</th>\n",
       "      <th>EstimatedSalary</th>\n",
       "      <th>Exited</th>\n",
       "    </tr>\n",
       "  </thead>\n",
       "  <tbody>\n",
       "    <tr>\n",
       "      <th>0</th>\n",
       "      <td>1</td>\n",
       "      <td>15634602</td>\n",
       "      <td>Hargrave</td>\n",
       "      <td>619</td>\n",
       "      <td>France</td>\n",
       "      <td>Female</td>\n",
       "      <td>42</td>\n",
       "      <td>2</td>\n",
       "      <td>0.00</td>\n",
       "      <td>1</td>\n",
       "      <td>1</td>\n",
       "      <td>1</td>\n",
       "      <td>101348.88</td>\n",
       "      <td>1</td>\n",
       "    </tr>\n",
       "    <tr>\n",
       "      <th>1</th>\n",
       "      <td>2</td>\n",
       "      <td>15647311</td>\n",
       "      <td>Hill</td>\n",
       "      <td>608</td>\n",
       "      <td>Spain</td>\n",
       "      <td>Female</td>\n",
       "      <td>41</td>\n",
       "      <td>1</td>\n",
       "      <td>83807.86</td>\n",
       "      <td>1</td>\n",
       "      <td>0</td>\n",
       "      <td>1</td>\n",
       "      <td>112542.58</td>\n",
       "      <td>0</td>\n",
       "    </tr>\n",
       "    <tr>\n",
       "      <th>2</th>\n",
       "      <td>3</td>\n",
       "      <td>15619304</td>\n",
       "      <td>Onio</td>\n",
       "      <td>502</td>\n",
       "      <td>France</td>\n",
       "      <td>Female</td>\n",
       "      <td>42</td>\n",
       "      <td>8</td>\n",
       "      <td>159660.80</td>\n",
       "      <td>3</td>\n",
       "      <td>1</td>\n",
       "      <td>0</td>\n",
       "      <td>113931.57</td>\n",
       "      <td>1</td>\n",
       "    </tr>\n",
       "    <tr>\n",
       "      <th>3</th>\n",
       "      <td>4</td>\n",
       "      <td>15701354</td>\n",
       "      <td>Boni</td>\n",
       "      <td>699</td>\n",
       "      <td>France</td>\n",
       "      <td>Female</td>\n",
       "      <td>39</td>\n",
       "      <td>1</td>\n",
       "      <td>0.00</td>\n",
       "      <td>2</td>\n",
       "      <td>0</td>\n",
       "      <td>0</td>\n",
       "      <td>93826.63</td>\n",
       "      <td>0</td>\n",
       "    </tr>\n",
       "    <tr>\n",
       "      <th>4</th>\n",
       "      <td>5</td>\n",
       "      <td>15737888</td>\n",
       "      <td>Mitchell</td>\n",
       "      <td>850</td>\n",
       "      <td>Spain</td>\n",
       "      <td>Female</td>\n",
       "      <td>43</td>\n",
       "      <td>2</td>\n",
       "      <td>125510.82</td>\n",
       "      <td>1</td>\n",
       "      <td>1</td>\n",
       "      <td>1</td>\n",
       "      <td>79084.10</td>\n",
       "      <td>0</td>\n",
       "    </tr>\n",
       "  </tbody>\n",
       "</table>\n",
       "</div>"
      ],
      "text/plain": [
       "   RowNumber  CustomerId   Surname  CreditScore Geography  Gender  Age  \\\n",
       "0          1    15634602  Hargrave          619    France  Female   42   \n",
       "1          2    15647311      Hill          608     Spain  Female   41   \n",
       "2          3    15619304      Onio          502    France  Female   42   \n",
       "3          4    15701354      Boni          699    France  Female   39   \n",
       "4          5    15737888  Mitchell          850     Spain  Female   43   \n",
       "\n",
       "   Tenure    Balance  NumOfProducts  HasCrCard  IsActiveMember  \\\n",
       "0       2       0.00              1          1               1   \n",
       "1       1   83807.86              1          0               1   \n",
       "2       8  159660.80              3          1               0   \n",
       "3       1       0.00              2          0               0   \n",
       "4       2  125510.82              1          1               1   \n",
       "\n",
       "   EstimatedSalary  Exited  \n",
       "0        101348.88       1  \n",
       "1        112542.58       0  \n",
       "2        113931.57       1  \n",
       "3         93826.63       0  \n",
       "4         79084.10       0  "
      ]
     },
     "execution_count": 4,
     "metadata": {},
     "output_type": "execute_result"
    }
   ],
   "source": [
    "data.head()  #Display the first 5 rows. "
   ]
  },
  {
   "cell_type": "code",
   "execution_count": 5,
   "id": "d40d72e6",
   "metadata": {},
   "outputs": [
    {
     "name": "stdout",
     "output_type": "stream",
     "text": [
      "['RowNumber', 'CustomerId', 'Surname', 'CreditScore', 'Geography', 'Gender', 'Age', 'Tenure', 'Balance', 'NumOfProducts', 'HasCrCard', 'IsActiveMember', 'EstimatedSalary', 'Exited']\n"
     ]
    }
   ],
   "source": [
    "columns=data.columns.values.tolist()  #Printing a list of all columns by their names.\n",
    "print(columns)"
   ]
  },
  {
   "cell_type": "markdown",
   "id": "3a45feee",
   "metadata": {},
   "source": [
    "## converting categorical columns to numeric columns In our dataset we have two categorical columns that is Geography and Gender.We need to convert them to numeric columns  \n",
    "\n"
   ]
  },
  {
   "cell_type": "code",
   "execution_count": 6,
   "id": "c38a2fa5",
   "metadata": {},
   "outputs": [
    {
     "name": "stdout",
     "output_type": "stream",
     "text": [
      "      Germany  Spain\n",
      "0           0      0\n",
      "1           0      1\n",
      "2           0      0\n",
      "3           0      0\n",
      "4           0      1\n",
      "...       ...    ...\n",
      "9995        0      0\n",
      "9996        0      0\n",
      "9997        0      0\n",
      "9998        1      0\n",
      "9999        0      0\n",
      "\n",
      "[10000 rows x 2 columns]\n",
      "      Male\n",
      "0        0\n",
      "1        0\n",
      "2        0\n",
      "3        0\n",
      "4        0\n",
      "...    ...\n",
      "9995     1\n",
      "9996     1\n",
      "9997     0\n",
      "9998     1\n",
      "9999     0\n",
      "\n",
      "[10000 rows x 1 columns]\n"
     ]
    }
   ],
   "source": [
    "Geography=pd.get_dummies(data.Geography).iloc[:,1:]  #converting categorical columns to numerical values for easy training\n",
    "Gender=pd.get_dummies(data .Gender).iloc[:,1:]\n",
    "print(Geography)\n",
    "print(Gender)"
   ]
  },
  {
   "cell_type": "markdown",
   "id": "3c0d0c26",
   "metadata": {},
   "source": [
    "# After carefully observing the features we will remove the RowNumber, CustomerId, Surname columns and \"Exited\" column as they do not contribute to customer churning in any way\n"
   ]
  },
  {
   "cell_type": "code",
   "execution_count": 7,
   "id": "2458f633",
   "metadata": {
    "scrolled": true
   },
   "outputs": [
    {
     "name": "stdout",
     "output_type": "stream",
     "text": [
      "      CreditScore  Age  Tenure    Balance  NumOfProducts  HasCrCard  \\\n",
      "0             619   42       2       0.00              1          1   \n",
      "1             608   41       1   83807.86              1          0   \n",
      "2             502   42       8  159660.80              3          1   \n",
      "3             699   39       1       0.00              2          0   \n",
      "4             850   43       2  125510.82              1          1   \n",
      "...           ...  ...     ...        ...            ...        ...   \n",
      "9995          771   39       5       0.00              2          1   \n",
      "9996          516   35      10   57369.61              1          1   \n",
      "9997          709   36       7       0.00              1          0   \n",
      "9998          772   42       3   75075.31              2          1   \n",
      "9999          792   28       4  130142.79              1          1   \n",
      "\n",
      "      IsActiveMember  EstimatedSalary  \n",
      "0                  1        101348.88  \n",
      "1                  1        112542.58  \n",
      "2                  0        113931.57  \n",
      "3                  0         93826.63  \n",
      "4                  1         79084.10  \n",
      "...              ...              ...  \n",
      "9995               0         96270.64  \n",
      "9996               1        101699.77  \n",
      "9997               1         42085.58  \n",
      "9998               0         92888.52  \n",
      "9999               0         38190.78  \n",
      "\n",
      "[10000 rows x 8 columns]\n",
      "0       1\n",
      "1       0\n",
      "2       1\n",
      "3       0\n",
      "4       0\n",
      "       ..\n",
      "9995    0\n",
      "9996    0\n",
      "9997    1\n",
      "9998    1\n",
      "9999    0\n",
      "Name: Exited, Length: 10000, dtype: int64\n"
     ]
    }
   ],
   "source": [
    "x=data.drop([\"Exited\",'RowNumber', 'CustomerId', 'Surname','Geography', 'Gender'],axis=1)\n",
    "y=data[\"Exited\"]\n",
    "print(x)\n",
    "print(y)"
   ]
  },
  {
   "cell_type": "markdown",
   "id": "5aa164d5",
   "metadata": {},
   "source": [
    "# #We need to Add the Geography and Gender data frames back to the dataset to create  the final dataset \n"
   ]
  },
  {
   "cell_type": "code",
   "execution_count": 8,
   "id": "2ee2d65f",
   "metadata": {},
   "outputs": [
    {
     "name": "stdout",
     "output_type": "stream",
     "text": [
      "      CreditScore  Age  Tenure    Balance  NumOfProducts  HasCrCard  \\\n",
      "0             619   42       2       0.00              1          1   \n",
      "1             608   41       1   83807.86              1          0   \n",
      "2             502   42       8  159660.80              3          1   \n",
      "3             699   39       1       0.00              2          0   \n",
      "4             850   43       2  125510.82              1          1   \n",
      "...           ...  ...     ...        ...            ...        ...   \n",
      "9995          771   39       5       0.00              2          1   \n",
      "9996          516   35      10   57369.61              1          1   \n",
      "9997          709   36       7       0.00              1          0   \n",
      "9998          772   42       3   75075.31              2          1   \n",
      "9999          792   28       4  130142.79              1          1   \n",
      "\n",
      "      IsActiveMember  EstimatedSalary  Germany  Spain  Male  \n",
      "0                  1        101348.88        0      0     0  \n",
      "1                  1        112542.58        0      1     0  \n",
      "2                  0        113931.57        0      0     0  \n",
      "3                  0         93826.63        0      0     0  \n",
      "4                  1         79084.10        0      1     0  \n",
      "...              ...              ...      ...    ...   ...  \n",
      "9995               0         96270.64        0      0     1  \n",
      "9996               1        101699.77        0      0     1  \n",
      "9997               1         42085.58        0      0     0  \n",
      "9998               0         92888.52        1      0     1  \n",
      "9999               0         38190.78        0      0     0  \n",
      "\n",
      "[10000 rows x 11 columns]\n"
     ]
    }
   ],
   "source": [
    "new =pd.concat([x,Geography,Gender],axis=1)\n",
    "print(new)"
   ]
  },
  {
   "cell_type": "markdown",
   "id": "80bd41c7",
   "metadata": {},
   "source": [
    "# We can now split  into training set and test set.we will use 20% for test set and 80% for training set"
   ]
  },
  {
   "cell_type": "code",
   "execution_count": 9,
   "id": "d9e45fea",
   "metadata": {
    "scrolled": true
   },
   "outputs": [
    {
     "name": "stdout",
     "output_type": "stream",
     "text": [
      "      CreditScore  Age  Tenure    Balance  NumOfProducts  HasCrCard  \\\n",
      "7389          667   34       5       0.00              2          1   \n",
      "9275          427   42       1   75681.52              1          1   \n",
      "2995          535   29       2  112367.34              1          1   \n",
      "5316          654   40       5  105683.63              1          1   \n",
      "356           850   57       8  126776.30              2          1   \n",
      "...           ...  ...     ...        ...            ...        ...   \n",
      "9225          594   32       4  120074.97              2          1   \n",
      "4859          794   22       4  114440.24              1          1   \n",
      "3264          738   35       5  161274.05              2          1   \n",
      "9845          590   38       9       0.00              2          1   \n",
      "2732          623   48       1  108076.33              1          1   \n",
      "\n",
      "      IsActiveMember  EstimatedSalary  \n",
      "7389               0        163830.64  \n",
      "9275               1         57098.00  \n",
      "2995               0        185630.76  \n",
      "5316               0        173617.09  \n",
      "356                1        132298.49  \n",
      "...              ...              ...  \n",
      "9225               1        162961.79  \n",
      "4859               1        107753.07  \n",
      "3264               0        181429.87  \n",
      "9845               1        148750.16  \n",
      "2732               0        118855.26  \n",
      "\n",
      "[8000 rows x 8 columns]       CreditScore  Age  Tenure    Balance  NumOfProducts  HasCrCard  \\\n",
      "9394          597   35       8  131101.04              1          1   \n",
      "898           523   40       2  102967.41              1          1   \n",
      "2398          706   42       8   95386.82              1          1   \n",
      "5906          788   32       4  112079.58              1          0   \n",
      "2343          706   38       5  163034.82              2          1   \n",
      "...           ...  ...     ...        ...            ...        ...   \n",
      "1037          625   24       1       0.00              2          1   \n",
      "2899          586   35       7       0.00              2          1   \n",
      "9549          578   36       1  157267.95              2          1   \n",
      "2740          650   34       4  142393.11              1          1   \n",
      "6690          573   30       8  127406.50              1          1   \n",
      "\n",
      "      IsActiveMember  EstimatedSalary  \n",
      "9394               1        192852.67  \n",
      "898                0        128702.10  \n",
      "2398               1         75732.25  \n",
      "5906               0         89368.59  \n",
      "2343               1        135662.17  \n",
      "...              ...              ...  \n",
      "1037               1        180969.55  \n",
      "2899               0         70760.69  \n",
      "9549               0        141533.19  \n",
      "2740               1         11276.48  \n",
      "6690               0        192950.60  \n",
      "\n",
      "[2000 rows x 8 columns] 7389    0\n",
      "9275    0\n",
      "2995    0\n",
      "5316    0\n",
      "356     0\n",
      "       ..\n",
      "9225    0\n",
      "4859    0\n",
      "3264    0\n",
      "9845    0\n",
      "2732    1\n",
      "Name: Exited, Length: 8000, dtype: int64 9394    0\n",
      "898     1\n",
      "2398    0\n",
      "5906    0\n",
      "2343    0\n",
      "       ..\n",
      "1037    0\n",
      "2899    0\n",
      "9549    0\n",
      "2740    0\n",
      "6690    0\n",
      "Name: Exited, Length: 2000, dtype: int64\n"
     ]
    }
   ],
   "source": [
    "x_train, x_test, y_train, y_test=train_test_split(x, y, test_size=0.2, random_state=0)\n",
    "print(x_train, x_test, y_train, y_test)"
   ]
  },
  {
   "cell_type": "code",
   "execution_count": 10,
   "id": "8be76bd0",
   "metadata": {},
   "outputs": [
    {
     "name": "stdout",
     "output_type": "stream",
     "text": [
      "<class 'pandas.core.frame.DataFrame'>\n",
      "RangeIndex: 10000 entries, 0 to 9999\n",
      "Data columns (total 11 columns):\n",
      " #   Column           Non-Null Count  Dtype  \n",
      "---  ------           --------------  -----  \n",
      " 0   CreditScore      10000 non-null  int64  \n",
      " 1   Age              10000 non-null  int64  \n",
      " 2   Tenure           10000 non-null  int64  \n",
      " 3   Balance          10000 non-null  float64\n",
      " 4   NumOfProducts    10000 non-null  int64  \n",
      " 5   HasCrCard        10000 non-null  int64  \n",
      " 6   IsActiveMember   10000 non-null  int64  \n",
      " 7   EstimatedSalary  10000 non-null  float64\n",
      " 8   Germany          10000 non-null  uint8  \n",
      " 9   Spain            10000 non-null  uint8  \n",
      " 10  Male             10000 non-null  uint8  \n",
      "dtypes: float64(2), int64(6), uint8(3)\n",
      "memory usage: 654.4 KB\n"
     ]
    }
   ],
   "source": [
    "new.info()"
   ]
  },
  {
   "cell_type": "markdown",
   "id": "24b9d8c3",
   "metadata": {},
   "source": [
    "## Machine learning algorithm training to indentify patterns or trends in the training dataset"
   ]
  },
  {
   "cell_type": "code",
   "execution_count": 11,
   "id": "86bd844f",
   "metadata": {},
   "outputs": [],
   "source": [
    "from sklearn.linear_model  import LogisticRegression \n",
    "reg=LogisticRegression()\n",
    "reg.fit(x_train,y_train)\n",
    "predictions=reg.predict(x_test)"
   ]
  },
  {
   "cell_type": "markdown",
   "id": "5e42a398",
   "metadata": {},
   "source": [
    "## Finding the accuracy of our logistic regression model."
   ]
  },
  {
   "cell_type": "code",
   "execution_count": 12,
   "id": "fb944999",
   "metadata": {},
   "outputs": [
    {
     "data": {
      "text/plain": [
       "array([[1553,   42],\n",
       "       [ 380,   25]], dtype=int64)"
      ]
     },
     "execution_count": 12,
     "metadata": {},
     "output_type": "execute_result"
    }
   ],
   "source": [
    "from sklearn.metrics import confusion_matrix \n",
    "predictions=reg.predict(x_test)\n",
    "confusion_matrix (y_test, predictions) "
   ]
  },
  {
   "cell_type": "markdown",
   "id": "587f29bd",
   "metadata": {},
   "source": [
    "## Evaluating logistic regression accuracy"
   ]
  },
  {
   "cell_type": "code",
   "execution_count": 282,
   "id": "6ffdd152",
   "metadata": {},
   "outputs": [
    {
     "data": {
      "text/plain": [
       "0.789"
      ]
     },
     "execution_count": 282,
     "metadata": {},
     "output_type": "execute_result"
    }
   ],
   "source": [
    "from  sklearn.metrics import accuracy_score\n",
    "accuracy_score(y_test, predictions)\n"
   ]
  },
  {
   "cell_type": "markdown",
   "id": "125eb8d4",
   "metadata": {},
   "source": [
    "# #In Conclusion,customer churn is crucial to the long-term financial stabilityof a company.we successfully created a machine learning algorithm that is able to predict customer churn with an accuracy of 78.9%"
   ]
  }
 ],
 "metadata": {
  "kernelspec": {
   "display_name": "Python 3 (ipykernel)",
   "language": "python",
   "name": "python3"
  },
  "language_info": {
   "codemirror_mode": {
    "name": "ipython",
    "version": 3
   },
   "file_extension": ".py",
   "mimetype": "text/x-python",
   "name": "python",
   "nbconvert_exporter": "python",
   "pygments_lexer": "ipython3",
   "version": "3.11.1"
  }
 },
 "nbformat": 4,
 "nbformat_minor": 5
}
